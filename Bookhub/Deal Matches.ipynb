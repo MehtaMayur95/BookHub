{
 "cells": [
  {
   "cell_type": "code",
   "execution_count": 95,
   "metadata": {
    "collapsed": true,
    "deletable": true,
    "editable": true
   },
   "outputs": [],
   "source": [
    "from TwitterAPI import TwitterAPI, TwitterOAuth, TwitterRestPager"
   ]
  },
  {
   "cell_type": "code",
   "execution_count": 96,
   "metadata": {
    "collapsed": false,
    "deletable": true,
    "editable": true
   },
   "outputs": [],
   "source": [
    "o = TwitterOAuth.read_file('credentials.txt')"
   ]
  },
  {
   "cell_type": "code",
   "execution_count": 97,
   "metadata": {
    "collapsed": true,
    "deletable": true,
    "editable": true
   },
   "outputs": [],
   "source": [
    "twitter = TwitterAPI(o.consumer_key,\n",
    "                     o.consumer_secret,\n",
    "                     o.access_token_key,\n",
    "                     o.access_token_secret)"
   ]
  },
  {
   "cell_type": "code",
   "execution_count": 98,
   "metadata": {
    "collapsed": true,
    "deletable": true,
    "editable": true
   },
   "outputs": [],
   "source": [
    "# Get Book Deals timeline = ''\n",
    "screen_name = 'bookdeals'\n",
    "timeline = [tweet for tweet in twitter.request('statuses/user_timeline',\n",
    "                                                {'screen_name': screen_name,\n",
    "                                                 'count': 200})]"
   ]
  },
  {
   "cell_type": "code",
   "execution_count": 99,
   "metadata": {
    "collapsed": false,
    "deletable": true,
    "editable": true
   },
   "outputs": [],
   "source": [
    "import pymysql"
   ]
  },
  {
   "cell_type": "code",
   "execution_count": 100,
   "metadata": {
    "collapsed": false,
    "deletable": true,
    "editable": true
   },
   "outputs": [],
   "source": [
    "conn = pymysql.connect(host='localhost', port=3306, user='root', passwd='Mysql@1991', db='bookhub')"
   ]
  },
  {
   "cell_type": "code",
   "execution_count": 101,
   "metadata": {
    "collapsed": false,
    "deletable": true,
    "editable": true
   },
   "outputs": [],
   "source": [
    "import re\n",
    "\n",
    "dealMatchGuaranteed=[]\n",
    "\n",
    "cur = conn.cursor()\n",
    "cur.execute(\"SELECT * FROM bookhub.productdetail\")\n",
    "for row in cur:\n",
    "    for tweet in timeline:\n",
    "        deal = tweet['text'].encode('ascii','ignore')\n",
    "        bookname = row[1].replace(\"_\", \" \")\n",
    "        if(len(re.findall(bookname, deal)) >= 1):\n",
    "            dealMatchGuaranteed += [deal]\n",
    "            dealMatchGuaranteed += [\"prod name: \"+row[1]]"
   ]
  },
  {
   "cell_type": "code",
   "execution_count": 102,
   "metadata": {
    "collapsed": true,
    "deletable": true,
    "editable": true
   },
   "outputs": [],
   "source": [
    "dealMatchFile = open('DealMatches.txt', 'w')\n",
    "\n",
    "for deal in dealMatchGuaranteed:\n",
    "  dealMatchFile.write(\"%s\\n\" % deal)\n",
    "\n",
    "dealMatchFile.close()"
   ]
  }
 ],
 "metadata": {
  "kernelspec": {
   "display_name": "Python 2",
   "language": "python",
   "name": "python2"
  },
  "language_info": {
   "codemirror_mode": {
    "name": "ipython",
    "version": 2
   },
   "file_extension": ".py",
   "mimetype": "text/x-python",
   "name": "python",
   "nbconvert_exporter": "python",
   "pygments_lexer": "ipython2",
   "version": "2.7.11"
  }
 },
 "nbformat": 4,
 "nbformat_minor": 2
}
